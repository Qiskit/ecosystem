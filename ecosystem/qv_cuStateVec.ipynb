{
 "cells": [
  {
   "cell_type": "markdown",
   "metadata": {
    "scrolled": true
   },
   "source": [
    "# Running Qiskit Aer with GPU and cuQuantum\n",
    "\n",
    "This document introduces how to run Qiskit Aer with GPU and NVIDIA's cuQuantum API.\n",
    "Qiskit Aer supports cuStateVec APIs in cuQuantum that accelerate statevector simulator.\n",
    "\n",
    "Here is a simple example to simulate Quantum Volume circuit from Qiskit's circuit library. You can change number of qubits, depth and shots to be simulated. "
   ]
  },
  {
   "cell_type": "code",
   "execution_count": 4,
   "metadata": {},
   "outputs": [
    {
     "name": "stdout",
     "output_type": "stream",
     "text": [
      "15 qubits Quantum Volume, Simulation Time = 0.004826054 sec\n",
      "{'011010000111101': 1, '100101001000001': 1, '101100010110011': 1, '011110101110001': 1, '000001110000100': 1, '001101110000100': 1, '101100010101010': 1, '010111001000001': 1, '100100010100111': 1, '001101110011000': 1}\n"
     ]
    }
   ],
   "source": [
    "from qiskit import *\n",
    "from qiskit.circuit.library import *\n",
    "from qiskit.providers.aer import *\n",
    "\n",
    "sim = AerSimulator(method='statevector', device='GPU')\n",
    "\n",
    "qubits = 15\n",
    "depth=10\n",
    "shots = 10\n",
    "\n",
    "circuit = QuantumVolume(qubits, depth, seed=0)\n",
    "circuit.measure_all()\n",
    "result = execute(circuit,sim,shots=shots,seed_simulator=12345).result()\n",
    "\n",
    "print(\"{0} qubits Quantum Volume, Simulation Time = {1} sec\".format(qubits,result.to_dict()['results'][0]['time_taken']))\n",
    "counts = result.get_counts()\n",
    "print(counts)"
   ]
  },
  {
   "cell_type": "markdown",
   "metadata": {},
   "source": [
    "The example above does not use cuStateVec but calculated by using default GPU backend of Qiskit Aer.\n",
    "\n",
    "To eanble cuStateVec, runtime option cuStateVec_enable should be set to True."
   ]
  },
  {
   "cell_type": "code",
   "execution_count": 6,
   "metadata": {},
   "outputs": [
    {
     "name": "stdout",
     "output_type": "stream",
     "text": [
      "cuStateVector is used for the simulation\n",
      "15 qubits, Time = 0.007037462 sec\n",
      "{'011010000111101': 1, '100101001000001': 1, '101100010110011': 1, '011110101110001': 1, '000001110000100': 1, '001101110000100': 1, '101100010101010': 1, '010111001000001': 1, '100100010100111': 1, '001101110011000': 1}\n"
     ]
    }
   ],
   "source": [
    "from qiskit import *\n",
    "from qiskit.circuit.library import *\n",
    "from qiskit.providers.aer import *\n",
    "\n",
    "sim = AerSimulator(method='statevector', device='GPU', cuStateVec_enable=True)\n",
    "\n",
    "qubits = 15\n",
    "depth=10\n",
    "shots = 10\n",
    "\n",
    "circuit = QuantumVolume(qubits, depth, seed=0)\n",
    "circuit.measure_all()\n",
    "\n",
    "result = execute(circuit,sim,shots=shots,seed_simulator=12345).result()\n",
    "\n",
    "if result.to_dict()['results'][0]['metadata']['cuStateVec_enable'] == True:\n",
    "    print(\"cuStateVector is used for the simulation\")\n",
    "print(\"{0} qubits, Time = {1} sec\".format(qubits,result.to_dict()['results'][0]['time_taken']))\n",
    "counts = result.get_counts()\n",
    "print(counts)\n"
   ]
  },
  {
   "cell_type": "markdown",
   "metadata": {},
   "source": [
    "Now let's compare the performance. Following benchmark measures simulation time of Quantum Volume for range of qubits."
   ]
  },
  {
   "cell_type": "code",
   "execution_count": 8,
   "metadata": {},
   "outputs": [
    {
     "data": {
      "text/plain": [
       "<matplotlib.legend.Legend at 0x7fd8f4772910>"
      ]
     },
     "execution_count": 8,
     "metadata": {},
     "output_type": "execute_result"
    },
    {
     "data": {
      "image/png": "[encoded data removed]",
      "text/plain": [
       "<Figure size 432x288 with 1 Axes>"
      ]
     },
     "metadata": {
      "needs_background": "light"
     },
     "output_type": "display_data"
    }
   ],
   "source": [
    "from qiskit import *\n",
    "from qiskit.circuit.library import *\n",
    "from qiskit.providers.aer import *\n",
    "import matplotlib.pyplot as plt\n",
    "\n",
    "sim = AerSimulator(method='statevector', device='GPU')\n",
    "\n",
    "shots = 100\n",
    "depth=10\n",
    "\n",
    "time_thrust= []\n",
    "time_cuStateVec= []\n",
    "qubits_list = []\n",
    "\n",
    "for qubits in range (15, 26):\n",
    "    qubits_list.append(qubits)\n",
    "    circuit = QuantumVolume(qubits, depth, seed=0)\n",
    "    circuit.measure_all()\n",
    "\n",
    "    result = execute(circuit,sim,shots=shots,seed_simulator=12345,fusion_threshold=20,cuStateVec_enable=False).result()\n",
    "    time_thrust.append(float(result.to_dict()['results'][0]['time_taken']))\n",
    "\n",
    "    result_cuStateVec = execute(circuit,sim,shots=shots,seed_simulator=12345,fusion_threshold=20,cuStateVec_enable=True).result()\n",
    "    time_cuStateVec.append(float(result_cuStateVec.to_dict()['results'][0]['time_taken']))\n",
    "\n",
    "plt.yscale(\"log\")\n",
    "plt.plot(qubits_list, time_thrust, marker=\"o\", label='ThrustGPU')\n",
    "plt.plot(qubits_list, time_cuStateVec, 'g', marker=\"x\", label='cuStateVec')\n",
    "plt.legend()\n"
   ]
  },
  {
   "cell_type": "markdown",
   "metadata": {},
   "source": [
    "As you can see, cuStateVec is faster for higher number of qubits. This will be improved in the future release of cuQuantum and will be faster for lower number of qubits too. Before the improved release, please switch enabling/disabling cuStateVec by using cuStateVec_enable option suitable for your actual simulations."
   ]
  }
 ],
 "metadata": {
  "kernelspec": {
   "display_name": "Python 3",
   "language": "python",
   "name": "python3"
  },
  "language_info": {
   "codemirror_mode": {
    "name": "ipython",
    "version": 3
   },
   "file_extension": ".py",
   "mimetype": "text/x-python",
   "name": "python",
   "nbconvert_exporter": "python",
   "pygments_lexer": "ipython3",
   "version": "3.7.6"
  }
 },
 "nbformat": 4,
 "nbformat_minor": 5
}
